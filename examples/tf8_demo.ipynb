{
 "cells": [
  {
   "cell_type": "markdown",
   "id": "cfa88313",
   "metadata": {},
   "source": [
    "# Predicting transcription factor binding affinity"
   ]
  },
  {
   "cell_type": "code",
   "execution_count": 1,
   "id": "bbce78c2",
   "metadata": {},
   "outputs": [],
   "source": [
    "from collections import OrderedDict\n",
    "from pprint import pprint\n",
    "import pyro\n",
    "import torch\n",
    "import numpy as np\n",
    "import matplotlib\n",
    "import matplotlib.pyplot as plt\n",
    "\n",
    "from pyroed.datasets.data import load_tf_data\n",
    "from pyroed.constraints import AllDifferent, Iff, IfThen, TakesValue\n",
    "from pyroed.oed import thompson_sample\n",
    "from pyroed.testing import generate_fake_data\n",
    "\n",
    "matplotlib.rcParams[\"figure.facecolor\"] = \"white\""
   ]
  },
  {
   "cell_type": "markdown",
   "id": "3168d890",
   "metadata": {},
   "source": [
    "### Transcription factor data\n",
    "\n",
    "We consider data from [Survey of variation in human transcription factors reveals prevalent DNA binding changes](https://www.science.org/doi/abs/10.1126/science.aad2257),\n",
    "in particular for the PBX4 transcription factor.\n",
    "The dataset consists of measurements of the binding affinities of PBX4 to all\n",
    "possible DNA sequences of length 8, i.e. for a total of $4^8 = 65536$ sequences.\n",
    "Since this dataset is exhaustive we can use it to do a semi-synthetic experiment in which\n",
    "we first \"measure\" a small number of binding affinities and then do additional \"experiments\" in multiple rounds."
   ]
  },
  {
   "cell_type": "code",
   "execution_count": 2,
   "id": "b9c5f1dc",
   "metadata": {},
   "outputs": [],
   "source": [
    "data = load_tf_data(data_dir=\"../pyroed/datasets\")"
   ]
  },
  {
   "cell_type": "code",
   "execution_count": 3,
   "id": "dbcf570c",
   "metadata": {},
   "outputs": [
    {
     "name": "stdout",
     "output_type": "stream",
     "text": [
      "sequences torch.int64 (65792, 8)\n",
      "responses torch.float32 (65792,)\n",
      "batch_ids torch.int64 (65792,)\n"
     ]
    }
   ],
   "source": [
    "for k, v in data.items():\n",
    "    print(f\"{k} {v.dtype} {tuple(v.shape)}\")"
   ]
  },
  {
   "cell_type": "markdown",
   "id": "add4b8cb",
   "metadata": {},
   "source": [
    "Note that there are actually more than $65536$ data points due to some repeats."
   ]
  },
  {
   "cell_type": "markdown",
   "id": "63917f48",
   "metadata": {},
   "source": [
    "Sequences take values 0,1,2,3 corresponding to nucleotides."
   ]
  },
  {
   "cell_type": "code",
   "execution_count": 4,
   "id": "bf570325",
   "metadata": {},
   "outputs": [
    {
     "data": {
      "text/plain": [
       "{0, 1, 2, 3}"
      ]
     },
     "execution_count": 4,
     "metadata": {},
     "output_type": "execute_result"
    }
   ],
   "source": [
    "set(data[\"sequences\"].reshape(-1).tolist())"
   ]
  },
  {
   "cell_type": "markdown",
   "id": "fb9d3635",
   "metadata": {},
   "source": [
    "The response variable appears to be approximately Gaussian distributed."
   ]
  },
  {
   "cell_type": "code",
   "execution_count": 5,
   "id": "e1ebbbac",
   "metadata": {},
   "outputs": [
    {
     "data": {
      "image/png": "[encoded data removed]",
      "text/plain": [
       "<Figure size 432x288 with 1 Axes>"
      ]
     },
     "metadata": {},
     "output_type": "display_data"
    }
   ],
   "source": [
    "plt.hist(data[\"responses\"].numpy(), bins=20)\n",
    "plt.show()"
   ]
  },
  {
   "cell_type": "markdown",
   "id": "f0369fac",
   "metadata": {},
   "source": [
    "## Modeling in pyroed\n",
    "\n",
    "Specify the design space via SCHEMA, CONSTRAINTS, FEATURE_BLOCKS, and GIBBS_BLOCKS."
   ]
  },
  {
   "cell_type": "code",
   "execution_count": 6,
   "id": "a5568f60",
   "metadata": {},
   "outputs": [],
   "source": [
    "SCHEMA = OrderedDict()\n",
    "for n in range(8):\n",
    "    SCHEMA[f\"Nucleotide{n}\"] = [\"A\", \"C\", \"G\", \"T\"]\n",
    "\n",
    "CONSTRAINTS = []  # No constraints.\n",
    "\n",
    "singletons = [[name] for name in SCHEMA]\n",
    "pairs = [list(ns) for ns in zip(SCHEMA, list(SCHEMA)[1:])]\n",
    "triples = [list(ns) for ns in zip(SCHEMA, list(SCHEMA)[1:], list(SCHEMA)[2:])]\n",
    "\n",
    "FEATURE_BLOCKS = singletons + pairs\n",
    "GIBBS_BLOCKS = triples"
   ]
  },
  {
   "cell_type": "markdown",
   "id": "53014fc6",
   "metadata": {},
   "source": [
    "Let's start with a random subsample of data."
   ]
  },
  {
   "cell_type": "code",
   "execution_count": 7,
   "id": "921550d3",
   "metadata": {},
   "outputs": [
    {
     "name": "stdout",
     "output_type": "stream",
     "text": [
      "Best response = 0.574323\n"
     ]
    }
   ],
   "source": [
    "pyro.set_rng_seed(0)\n",
    "full_size = len(data[\"responses\"])\n",
    "batch_size = 10\n",
    "ids = torch.randperm(full_size)[:batch_size]\n",
    "experiment = {k: v[ids] for k, v in data.items()}\n",
    "print(f\"Best response = {experiment['responses'].max():0.6g}\")"
   ]
  },
  {
   "cell_type": "markdown",
   "id": "a92d114c",
   "metadata": {},
   "source": [
    "Each step of the OED process we'll test on new data. Let's make a helper to simulate lab work."
   ]
  },
  {
   "cell_type": "code",
   "execution_count": 8,
   "id": "b56ba9d7",
   "metadata": {},
   "outputs": [],
   "source": [
    "seq_to_id = {tuple(row): i for i, row in enumerate(data[\"sequences\"].tolist())}\n",
    "\n",
    "def update_experiment(experiment: dict, design: set) -> dict:\n",
    "    batch_ids = experiment[\"batch_ids\"].max().item() + 1\n",
    "    ids = list(map(seq_to_id.__getitem__, sorted(design)))\n",
    "    new_data = {\n",
    "        \"sequences\": data[\"sequences\"][ids],\n",
    "        \"batch_ids\": torch.full((len(ids),), batch_ids),\n",
    "        \"responses\": data[\"responses\"][ids],\n",
    "    }\n",
    "    experiment = {k: torch.cat([v, new_data[k]]) for k, v in experiment.items()}\n",
    "    print(f\"Best response = {experiment['responses'].max():0.6g}\")\n",
    "    return experiment\n",
    "\n",
    "def make_design(experiment: dict) -> set:\n",
    "    return thompson_sample(\n",
    "        SCHEMA,\n",
    "        CONSTRAINTS,\n",
    "        FEATURE_BLOCKS,\n",
    "        GIBBS_BLOCKS,\n",
    "        experiment,\n",
    "        inference=\"svi\",\n",
    "        svi_num_steps=201,\n",
    "        sa_num_steps=201,\n",
    "        log_every=0,\n",
    "        jit_compile=False,\n",
    "    )"
   ]
  },
  {
   "cell_type": "markdown",
   "id": "2d74b628",
   "metadata": {},
   "source": [
    "Initialize our sequence of experiments:"
   ]
  },
  {
   "cell_type": "code",
   "execution_count": 9,
   "id": "4b2c2ed7",
   "metadata": {},
   "outputs": [],
   "source": [
    "experiments = [experiment]"
   ]
  },
  {
   "cell_type": "markdown",
   "id": "6bcabacb",
   "metadata": {},
   "source": [
    "Let's start with a single loop of active learning:"
   ]
  },
  {
   "cell_type": "code",
   "execution_count": 10,
   "id": "7b1ffbf8",
   "metadata": {},
   "outputs": [
    {
     "name": "stdout",
     "output_type": "stream",
     "text": [
      "Design:\n",
      "{(0, 2, 3, 3, 1, 2, 1, 1),\n",
      " (0, 3, 0, 2, 0, 1, 3, 1),\n",
      " (1, 0, 3, 1, 0, 1, 0, 0),\n",
      " (1, 0, 3, 3, 3, 3, 1, 0),\n",
      " (1, 3, 0, 2, 0, 0, 3, 0),\n",
      " (2, 1, 1, 0, 2, 3, 2, 1),\n",
      " (2, 1, 3, 1, 3, 3, 3, 1),\n",
      " (2, 2, 0, 0, 2, 3, 1, 1),\n",
      " (3, 1, 3, 0, 0, 0, 3, 0),\n",
      " (3, 3, 3, 0, 0, 2, 3, 1)}\n",
      "Best response = 0.905897\n",
      "CPU times: user 4.91 s, sys: 17.3 ms, total: 4.93 s\n",
      "Wall time: 4.93 s\n"
     ]
    }
   ],
   "source": [
    "%%time\n",
    "design = make_design(experiments[-1])\n",
    "print(\"Design:\")\n",
    "pprint(design)\n",
    "experiments.append(update_experiment(experiments[-1], design))"
   ]
  },
  {
   "cell_type": "markdown",
   "id": "8047d410",
   "metadata": {},
   "source": [
    "Let's run multiple loops, say 10 more loops."
   ]
  },
  {
   "cell_type": "code",
   "execution_count": 11,
   "id": "cf15268e",
   "metadata": {},
   "outputs": [
    {
     "name": "stdout",
     "output_type": "stream",
     "text": [
      "Best response = 0.905897\n",
      "Best response = 0.905897\n",
      "Best response = 0.905897\n",
      "Best response = 0.94027\n",
      "Best response = 0.94027\n",
      "Best response = 0.959295\n",
      "Best response = 0.959295\n",
      "Best response = 0.959295\n",
      "Best response = 0.959295\n",
      "Best response = 0.959295\n",
      "CPU times: user 53.3 s, sys: 175 ms, total: 53.4 s\n",
      "Wall time: 53.5 s\n"
     ]
    }
   ],
   "source": [
    "%%time\n",
    "for step in range(10):\n",
    "    design = make_design(experiments[-1])\n",
    "    experiments.append(update_experiment(experiments[-1], design))"
   ]
  },
  {
   "cell_type": "markdown",
   "id": "0a479832",
   "metadata": {},
   "source": [
    "How did the response improve over time?"
   ]
  },
  {
   "cell_type": "code",
   "execution_count": 13,
   "id": "5b1d0c01",
   "metadata": {},
   "outputs": [
    {
     "data": {
      "image/png": "[encoded data removed]",
      "text/plain": [
       "<Figure size 432x288 with 1 Axes>"
      ]
     },
     "metadata": {},
     "output_type": "display_data"
    }
   ],
   "source": [
    "responses = [e[\"responses\"].max().item() for e in experiments]\n",
    "plt.plot(responses)\n",
    "plt.xlabel(\"Number of OED steps\")\n",
    "plt.ylabel(\"best binding affinity\");"
   ]
  }
 ],
 "metadata": {
  "kernelspec": {
   "display_name": "Python 3",
   "language": "python",
   "name": "python3"
  },
  "language_info": {
   "codemirror_mode": {
    "name": "ipython",
    "version": 3
   },
   "file_extension": ".py",
   "mimetype": "text/x-python",
   "name": "python",
   "nbconvert_exporter": "python",
   "pygments_lexer": "ipython3",
   "version": "3.8.2"
  }
 },
 "nbformat": 4,
 "nbformat_minor": 5
}
