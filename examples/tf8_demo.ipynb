{
 "cells": [
  {
   "cell_type": "markdown",
   "id": "e08d6802",
   "metadata": {},
   "source": [
    "# Predicting transcription factor binding affinity"
   ]
  },
  {
   "cell_type": "code",
   "execution_count": 33,
   "id": "554c3af7",
   "metadata": {},
   "outputs": [],
   "source": [
    "from collections import OrderedDict\n",
    "from pprint import pprint\n",
    "import pyro\n",
    "import torch\n",
    "import numpy as np\n",
    "import matplotlib\n",
    "import matplotlib.pyplot as plt\n",
    "\n",
    "from pyroed.datasets.data import load_tf_data\n",
    "from pyroed.constraints import AllDifferent, Iff, IfThen, TakesValue\n",
    "from pyroed.oed import thompson_sample\n",
    "from pyroed.testing import generate_fake_data\n",
    "\n",
    "matplotlib.rcParams[\"figure.facecolor\"] = \"white\""
   ]
  },
  {
   "cell_type": "markdown",
   "id": "1f74ad5b",
   "metadata": {},
   "source": [
    "### Transcription factor data\n",
    "\n",
    "We consider data from [Survey of variation in human transcription factors reveals prevalent DNA binding changes](https://www.science.org/doi/abs/10.1126/science.aad2257),\n",
    "in particular for the PBX4 transcription factor.\n",
    "The dataset consists of measurements of the binding affinities of PBX4 to all\n",
    "possible DNA sequences of length 8, i.e. for a total of $4^8 = 65536$ sequences.\n",
    "Since this dataset is exhaustive we can use it to do a semi-synthetic experiment in which\n",
    "we first \"measure\" a small number of binding affinities and then do additional \"experiments\" in multiple rounds."
   ]
  },
  {
   "cell_type": "code",
   "execution_count": 1,
   "id": "89de451b",
   "metadata": {},
   "outputs": [
    {
     "ename": "NameError",
     "evalue": "name 'load_tf_data' is not defined",
     "output_type": "error",
     "traceback": [
      "\u001b[0;31m---------------------------------------------------------------------------\u001b[0m",
      "\u001b[0;31mNameError\u001b[0m                                 Traceback (most recent call last)",
      "\u001b[0;32m<ipython-input-1-7fa754ef041d>\u001b[0m in \u001b[0;36m<module>\u001b[0;34m\u001b[0m\n\u001b[0;32m----> 1\u001b[0;31m \u001b[0mdata\u001b[0m \u001b[0;34m=\u001b[0m \u001b[0mload_tf_data\u001b[0m\u001b[0;34m(\u001b[0m\u001b[0;34m)\u001b[0m\u001b[0;34m\u001b[0m\u001b[0;34m\u001b[0m\u001b[0m\n\u001b[0m",
      "\u001b[0;31mNameError\u001b[0m: name 'load_tf_data' is not defined"
     ]
    }
   ],
   "source": [
    "data = load_tf_data()"
   ]
  },
  {
   "cell_type": "code",
   "execution_count": 2,
   "id": "aaee1008",
   "metadata": {},
   "outputs": [
    {
     "ename": "NameError",
     "evalue": "name 'data' is not defined",
     "output_type": "error",
     "traceback": [
      "\u001b[0;31m---------------------------------------------------------------------------\u001b[0m",
      "\u001b[0;31mNameError\u001b[0m                                 Traceback (most recent call last)",
      "\u001b[0;32m<ipython-input-2-9f2974ef0dc7>\u001b[0m in \u001b[0;36m<module>\u001b[0;34m\u001b[0m\n\u001b[0;32m----> 1\u001b[0;31m \u001b[0;32mfor\u001b[0m \u001b[0mk\u001b[0m\u001b[0;34m,\u001b[0m \u001b[0mv\u001b[0m \u001b[0;32min\u001b[0m \u001b[0mdata\u001b[0m\u001b[0;34m.\u001b[0m\u001b[0mitems\u001b[0m\u001b[0;34m(\u001b[0m\u001b[0;34m)\u001b[0m\u001b[0;34m:\u001b[0m\u001b[0;34m\u001b[0m\u001b[0;34m\u001b[0m\u001b[0m\n\u001b[0m\u001b[1;32m      2\u001b[0m     \u001b[0mprint\u001b[0m\u001b[0;34m(\u001b[0m\u001b[0;34mf\"{k} {v.dtype} {tuple(v.shape)}\"\u001b[0m\u001b[0;34m)\u001b[0m\u001b[0;34m\u001b[0m\u001b[0;34m\u001b[0m\u001b[0m\n",
      "\u001b[0;31mNameError\u001b[0m: name 'data' is not defined"
     ]
    }
   ],
   "source": [
    "for k, v in data.items():\n",
    "    print(f\"{k} {v.dtype} {tuple(v.shape)}\")"
   ]
  },
  {
   "cell_type": "markdown",
   "id": "df9a2c09",
   "metadata": {},
   "source": [
    "Sequences take values 0,1,2,3 corresponding to nucleotides."
   ]
  },
  {
   "cell_type": "code",
   "execution_count": 4,
   "id": "e663d3f4",
   "metadata": {},
   "outputs": [
    {
     "data": {
      "text/plain": [
       "{0, 1, 2, 3}"
      ]
     },
     "execution_count": 4,
     "metadata": {},
     "output_type": "execute_result"
    }
   ],
   "source": [
    "set(data[\"sequences\"].reshape(-1).tolist())"
   ]
  },
  {
   "cell_type": "markdown",
   "id": "027810aa",
   "metadata": {},
   "source": [
    "The response variable appears to be approximately Gaussian distributed."
   ]
  },
  {
   "cell_type": "code",
   "execution_count": 5,
   "id": "8023f16e",
   "metadata": {},
   "outputs": [
    {
     "data": {
      "text/plain": [
       "(array([  60.,  296.,  872., 1790., 3046., 4542., 5684., 6388., 6696.,\n",
       "        6596., 6374., 5934., 5156., 4436., 3352., 2182., 1236.,  640.,\n",
       "         378.,  134.]),\n",
       " array([0.  , 0.05, 0.1 , 0.15, 0.2 , 0.25, 0.3 , 0.35, 0.4 , 0.45, 0.5 ,\n",
       "        0.55, 0.6 , 0.65, 0.7 , 0.75, 0.8 , 0.85, 0.9 , 0.95, 1.  ],\n",
       "       dtype=float32),\n",
       " <BarContainer object of 20 artists>)"
      ]
     },
     "execution_count": 5,
     "metadata": {},
     "output_type": "execute_result"
    },
    {
     "data": {
      "image/png": "[encoded data removed]",
      "text/plain": [
       "<Figure size 432x288 with 1 Axes>"
      ]
     },
     "metadata": {},
     "output_type": "display_data"
    }
   ],
   "source": [
    "plt.hist(data[\"response\"].numpy(), bins=20)\n",
    "plt.show()"
   ]
  },
  {
   "cell_type": "markdown",
   "id": "1354452d",
   "metadata": {},
   "source": [
    "## Modeling in pyroed\n",
    "\n",
    "Specify the design space via SCHEMA, CONSTRAINTS, FEATURE_BLOCKS, and GIBBS_BLOCKS."
   ]
  },
  {
   "cell_type": "code",
   "execution_count": 6,
   "id": "901aa0f1",
   "metadata": {},
   "outputs": [],
   "source": [
    "SCHEMA = OrderedDict()\n",
    "for n in range(8):\n",
    "    SCHEMA[f\"Nucleotide{n}\"] = [\"A\", \"C\", \"G\", \"T\"]\n",
    "\n",
    "CONSTRAINTS = []  # No constraints.\n",
    "\n",
    "singletons = [[name] for name in SCHEMA]\n",
    "pairs = [list(ns) for ns in zip(SCHEMA, list(SCHEMA)[1:])]\n",
    "triples = [list(ns) for ns in zip(SCHEMA, list(SCHEMA)[1:], list(SCHEMA)[2:])]\n",
    "\n",
    "FEATURE_BLOCKS = singletons + pairs\n",
    "GIBBS_BLOCKS = triples"
   ]
  },
  {
   "cell_type": "markdown",
   "id": "4b00b234",
   "metadata": {},
   "source": [
    "Let's start with a random subsample of data."
   ]
  },
  {
   "cell_type": "code",
   "execution_count": 25,
   "id": "d5413960",
   "metadata": {},
   "outputs": [
    {
     "name": "stdout",
     "output_type": "stream",
     "text": [
      "Best response = 0.782111\n"
     ]
    }
   ],
   "source": [
    "full_size = len(data[\"response\"])\n",
    "batch_size = 10\n",
    "ids = torch.randperm(full_size)[:batch_size]\n",
    "experiment = {k: v[ids] for k, v in data.items()}\n",
    "print(f\"Best response = {experiment['response'].max():0.6g}\")"
   ]
  },
  {
   "cell_type": "markdown",
   "id": "819b8d82",
   "metadata": {},
   "source": [
    "Each step of the OED process we'll test on new data. Let's make a helper to simulate lab work."
   ]
  },
  {
   "cell_type": "code",
   "execution_count": 27,
   "id": "195d45d3",
   "metadata": {},
   "outputs": [],
   "source": [
    "seq_to_id = {tuple(row): i for i, row in enumerate(data[\"sequences\"].tolist())}\n",
    "\n",
    "def update_experiment(experiment: dict, design: set) -> dict:\n",
    "    batch_id = experiment[\"batch_id\"].max().item() + 1\n",
    "    ids = list(map(seq_to_id.__getitem__, sorted(design)))\n",
    "    new_data = {\n",
    "        \"sequences\": data[\"sequences\"][ids],\n",
    "        \"batch_id\": torch.full((len(ids),), batch_id),\n",
    "        \"response\": data[\"response\"][ids],\n",
    "    }\n",
    "    experiment = {k: torch.cat([v, new_data[k]]) for k, v in experiment.items()}\n",
    "    print(f\"Best response = {experiment['response'].max():0.6g}\")\n",
    "    return experiment\n",
    "\n",
    "def make_design(experiment: dict) -> set:\n",
    "    return thompson_sample(\n",
    "        SCHEMA,\n",
    "        CONSTRAINTS,\n",
    "        FEATURE_BLOCKS,\n",
    "        GIBBS_BLOCKS,\n",
    "        experiment,\n",
    "        inference=\"svi\",\n",
    "        svi_num_steps=201,\n",
    "        sa_num_steps=201,\n",
    "        log_every=0,\n",
    "    )"
   ]
  },
  {
   "cell_type": "markdown",
   "id": "9d60977f",
   "metadata": {},
   "source": [
    "Initialize our sequence of experiments:"
   ]
  },
  {
   "cell_type": "code",
   "execution_count": 39,
   "id": "6c69bbae",
   "metadata": {},
   "outputs": [],
   "source": [
    "pyro.set_rng_seed(20220308)\n",
    "experiments = [experiment]"
   ]
  },
  {
   "cell_type": "markdown",
   "id": "cf72260a",
   "metadata": {},
   "source": [
    "Let's start with a single loop of active learning:"
   ]
  },
  {
   "cell_type": "code",
   "execution_count": 40,
   "id": "4b3937cd",
   "metadata": {},
   "outputs": [
    {
     "name": "stdout",
     "output_type": "stream",
     "text": [
      "svi step 0 loss = 227.31\n",
      "svi step 100 loss = 115.033\n",
      "svi step 200 loss = 97.2491\n",
      "..........{(0, 0, 0, 1, 0, 3, 1, 2),\n",
      " (0, 2, 1, 3, 2, 0, 1, 3),\n",
      " (0, 3, 3, 3, 3, 0, 3, 2),\n",
      " (1, 3, 3, 1, 0, 2, 0, 2),\n",
      " (2, 0, 0, 1, 0, 3, 0, 0),\n",
      " (2, 0, 3, 1, 0, 3, 2, 2),\n",
      " (2, 1, 0, 3, 1, 0, 2, 2),\n",
      " (2, 3, 3, 3, 1, 2, 2, 3),\n",
      " (3, 2, 0, 0, 1, 3, 2, 1),\n",
      " (3, 2, 2, 2, 2, 3, 0, 1)}\n",
      "Design:\n",
      " None\n",
      "Best response = 0.782111\n",
      "CPU times: user 7.27 s, sys: 80.9 ms, total: 7.35 s\n",
      "Wall time: 7.44 s\n"
     ]
    }
   ],
   "source": [
    "%%time\n",
    "design = make_design(experiments[-1])\n",
    "print(\"Design:\\n\", pprint(design))\n",
    "experiments.append(update_experiment(experiments[-1], design))"
   ]
  },
  {
   "cell_type": "markdown",
   "id": "eab52db4",
   "metadata": {},
   "source": [
    "Let's run multiple loops, say 10 more loops."
   ]
  },
  {
   "cell_type": "code",
   "execution_count": 42,
   "id": "5e03ea18",
   "metadata": {},
   "outputs": [
    {
     "name": "stdout",
     "output_type": "stream",
     "text": [
      "svi step 0 loss = 328.547\n",
      "svi step 100 loss = 182.354\n",
      "svi step 200 loss = 157.066\n",
      "..........Best response = 0.782111\n",
      "svi step 0 loss = 397.759\n",
      "svi step 100 loss = 223.998\n",
      "svi step 200 loss = 180.877\n",
      "..........Best response = 0.785384\n",
      "svi step 0 loss = 474.64\n",
      "svi step 100 loss = 261.103\n",
      "svi step 200 loss = 246.654\n",
      "..........Best response = 0.785384\n",
      "svi step 0 loss = 436.659\n",
      "svi step 100 loss = 243.204\n",
      "svi step 200 loss = 227.365\n",
      "..........Best response = 0.785384\n",
      "svi step 0 loss = 569.2\n",
      "svi step 100 loss = 335.63\n",
      "svi step 200 loss = 279.575\n",
      "..........Best response = 0.785384\n",
      "svi step 0 loss = 519.949\n",
      "svi step 100 loss = 324.831\n",
      "svi step 200 loss = 255.933\n",
      "..........Best response = 0.785384\n",
      "svi step 0 loss = 554.253\n",
      "svi step 100 loss = 344.403\n",
      "svi step 200 loss = 267.959\n",
      "..........Best response = 0.785384\n",
      "svi step 0 loss = 625.767\n",
      "svi step 100 loss = 362.4\n",
      "svi step 200 loss = 274.814\n",
      "..........Best response = 0.88285\n",
      "svi step 0 loss = 621.583\n",
      "svi step 100 loss = 381.962\n",
      "svi step 200 loss = 323.642\n",
      "..........Best response = 0.88285\n",
      "svi step 0 loss = 755.779\n",
      "svi step 100 loss = 400.548\n",
      "svi step 200 loss = 358\n",
      "..........Best response = 0.88285\n",
      "CPU times: user 1min 13s, sys: 678 ms, total: 1min 14s\n",
      "Wall time: 1min 15s\n"
     ]
    }
   ],
   "source": [
    "%%time\n",
    "for step in range(10):\n",
    "    design = make_design(experiments[-1])\n",
    "    experiments.append(update_experiment(experiments[-1], design))"
   ]
  },
  {
   "cell_type": "markdown",
   "id": "d2c07fd3",
   "metadata": {},
   "source": [
    "How did the response improve over time?"
   ]
  },
  {
   "cell_type": "code",
   "execution_count": 44,
   "id": "a6c9069d",
   "metadata": {},
   "outputs": [
    {
     "data": {
      "image/png": "[encoded data removed]",
      "text/plain": [
       "<Figure size 432x288 with 1 Axes>"
      ]
     },
     "metadata": {},
     "output_type": "display_data"
    }
   ],
   "source": [
    "responses = [e[\"response\"].max().item() for e in experiments]\n",
    "plt.plot(responses)\n",
    "plt.xlabel(\"Number of OED steps\")\n",
    "plt.ylabel(\"best binding affinity\");"
   ]
  },
  {
   "cell_type": "code",
   "execution_count": null,
   "id": "423bdf0e",
   "metadata": {},
   "outputs": [],
   "source": []
  }
 ],
 "metadata": {
  "kernelspec": {
   "display_name": "Python 3",
   "language": "python",
   "name": "python3"
  },
  "language_info": {
   "codemirror_mode": {
    "name": "ipython",
    "version": 3
   },
   "file_extension": ".py",
   "mimetype": "text/x-python",
   "name": "python",
   "nbconvert_exporter": "python",
   "pygments_lexer": "ipython3",
   "version": "3.8.2"
  }
 },
 "nbformat": 4,
 "nbformat_minor": 5
}
